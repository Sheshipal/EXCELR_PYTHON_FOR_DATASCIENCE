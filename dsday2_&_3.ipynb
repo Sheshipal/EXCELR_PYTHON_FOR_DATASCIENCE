{
  "nbformat": 4,
  "nbformat_minor": 0,
  "metadata": {
    "colab": {
      "name": "dsday2 & 3.ipynb",
      "provenance": []
    },
    "kernelspec": {
      "name": "python3",
      "display_name": "Python 3"
    }
  },
  "cells": [
    {
      "cell_type": "markdown",
      "metadata": {
        "id": "bIKji5MuGCxx"
      },
      "source": [
        "##For Data Science there are few popular libraries in python\n",
        "###Processing\n",
        "1)numpy\n",
        "\n",
        "2)pandas\n",
        "\n",
        "3)scipy\n",
        "###Visualisation\n",
        "4)matplotlib\n",
        "\n",
        "5)seaborn\n",
        "###Machine Learning\n",
        "6)statsmodels\n",
        "\n",
        "7)sklearn\n",
        "###Deep Learning\n",
        "8)tensorflow\n",
        "\n",
        "9)keras\n",
        "\n",
        "10)pytorch\n",
        "\n"
      ]
    },
    {
      "cell_type": "markdown",
      "metadata": {
        "id": "kPujLpNEP1D2"
      },
      "source": [
        "#Numpy"
      ]
    },
    {
      "cell_type": "code",
      "metadata": {
        "id": "Cu4j66O1BeJt"
      },
      "source": [
        "import numpy as np"
      ],
      "execution_count": null,
      "outputs": []
    },
    {
      "cell_type": "code",
      "metadata": {
        "id": "gnX2erNLQF43",
        "outputId": "7844e9a0-1486-4c86-ed3f-b39c4ea7b9a9",
        "colab": {
          "base_uri": "https://localhost:8080/",
          "height": 109
        }
      },
      "source": [
        "a = np.array([[1,2,3,4],[5,6,7,8],[9,10,11,12]], dtype = int)\n",
        "print(a)\n",
        "print(type(a))\n",
        "print(a.shape)"
      ],
      "execution_count": null,
      "outputs": [
        {
          "output_type": "stream",
          "text": [
            "[[ 1  2  3  4]\n",
            " [ 5  6  7  8]\n",
            " [ 9 10 11 12]]\n",
            "<class 'numpy.ndarray'>\n",
            "(3, 4)\n"
          ],
          "name": "stdout"
        }
      ]
    },
    {
      "cell_type": "code",
      "metadata": {
        "id": "KocH7xXEQPj0",
        "outputId": "660f4599-69f2-427e-b533-dd49517d6ed1",
        "colab": {
          "base_uri": "https://localhost:8080/",
          "height": 35
        }
      },
      "source": [
        "# a[row,col]\n",
        "a[0,1:]"
      ],
      "execution_count": null,
      "outputs": [
        {
          "output_type": "execute_result",
          "data": {
            "text/plain": [
              "array([2, 3, 4])"
            ]
          },
          "metadata": {
            "tags": []
          },
          "execution_count": 3
        }
      ]
    },
    {
      "cell_type": "code",
      "metadata": {
        "id": "UmicgWKJS2CH",
        "outputId": "d0fcaa7f-d09c-4923-b246-f2c38d2267cb",
        "colab": {
          "base_uri": "https://localhost:8080/",
          "height": 237
        }
      },
      "source": [
        "b = np.array([[[1,2,3,4],[5,6,7,8],[9,10,11,12]],\n",
        " [[1,2,3,4],[5,6,7,8],[9,10,11,12]],\n",
        " [[1,2,3,4],[5,6,7,8],[9,10,11,12]]])\n",
        "print(b)\n",
        "print(b.shape)\n"
      ],
      "execution_count": null,
      "outputs": [
        {
          "output_type": "stream",
          "text": [
            "[[[ 1  2  3  4]\n",
            "  [ 5  6  7  8]\n",
            "  [ 9 10 11 12]]\n",
            "\n",
            " [[ 1  2  3  4]\n",
            "  [ 5  6  7  8]\n",
            "  [ 9 10 11 12]]\n",
            "\n",
            " [[ 1  2  3  4]\n",
            "  [ 5  6  7  8]\n",
            "  [ 9 10 11 12]]]\n",
            "(3, 3, 4)\n"
          ],
          "name": "stdout"
        }
      ]
    },
    {
      "cell_type": "code",
      "metadata": {
        "id": "NylheY__T1S2",
        "outputId": "fdc07b3b-4910-4165-86a6-1d1062d8b0ac",
        "colab": {
          "base_uri": "https://localhost:8080/",
          "height": 349
        }
      },
      "source": [
        "# range and ocnversion function in numpy\n",
        "a = np.arange(0,10,2)\n",
        "print(len(a))\n",
        "a = a.reshape((5,1))\n",
        "print(a)\n",
        "l = a.tolist()\n",
        "print(l)\n",
        "s = a.tostring()\n",
        "print(s)\n",
        "a.fill(0)\n",
        "print(a)\n",
        "c = a.copy()\n",
        "print(a)"
      ],
      "execution_count": null,
      "outputs": [
        {
          "output_type": "stream",
          "text": [
            "[[0]\n",
            " [2]\n",
            " [4]\n",
            " [6]\n",
            " [8]]\n",
            "[[0], [2], [4], [6], [8]]\n",
            "b'\\x00\\x00\\x00\\x00\\x00\\x00\\x00\\x00\\x02\\x00\\x00\\x00\\x00\\x00\\x00\\x00\\x04\\x00\\x00\\x00\\x00\\x00\\x00\\x00\\x06\\x00\\x00\\x00\\x00\\x00\\x00\\x00\\x08\\x00\\x00\\x00\\x00\\x00\\x00\\x00'\n",
            "[[0]\n",
            " [0]\n",
            " [0]\n",
            " [0]\n",
            " [0]]\n",
            "[[0]\n",
            " [0]\n",
            " [0]\n",
            " [0]\n",
            " [0]]\n"
          ],
          "name": "stdout"
        }
      ]
    },
    {
      "cell_type": "code",
      "metadata": {
        "id": "OoRKjVt8ZZRy",
        "outputId": "563c9408-b30e-4d17-b460-2061164c6a53",
        "colab": {
          "base_uri": "https://localhost:8080/",
          "height": 72
        }
      },
      "source": [
        "# for converting into a 1d array\n",
        "b.flatten()"
      ],
      "execution_count": null,
      "outputs": [
        {
          "output_type": "execute_result",
          "data": {
            "text/plain": [
              "array([ 1,  2,  3,  4,  5,  6,  7,  8,  9, 10, 11, 12,  1,  2,  3,  4,  5,\n",
              "        6,  7,  8,  9, 10, 11, 12,  1,  2,  3,  4,  5,  6,  7,  8,  9, 10,\n",
              "       11, 12])"
            ]
          },
          "metadata": {
            "tags": []
          },
          "execution_count": 13
        }
      ]
    },
    {
      "cell_type": "code",
      "metadata": {
        "id": "X-khHGtxbhs1",
        "outputId": "87401586-c4dd-4deb-8b82-eda2d5161e6e",
        "colab": {
          "base_uri": "https://localhost:8080/",
          "height": 127
        }
      },
      "source": [
        "# for concatinating arrays\n",
        "a = np.array([[1,2],[3,4]])\n",
        "b = np.array([[5,6],[7,8]])\n",
        "\n",
        "### axis represents the dimension in which adding should be done\n",
        "c = np.concatenate((a,b), axis=0)\n",
        "print(c)\n",
        "c = np.concatenate((a,b), axis=1)\n",
        "print(c)"
      ],
      "execution_count": null,
      "outputs": [
        {
          "output_type": "stream",
          "text": [
            "[[1 2]\n",
            " [3 4]\n",
            " [5 6]\n",
            " [7 8]]\n",
            "[[1 2 5 6]\n",
            " [3 4 7 8]]\n"
          ],
          "name": "stdout"
        }
      ]
    },
    {
      "cell_type": "code",
      "metadata": {
        "id": "5r9PPFF3cS1Z",
        "outputId": "d662f66b-991f-4a90-c6f8-941ff99fc2d4",
        "colab": {
          "base_uri": "https://localhost:8080/",
          "height": 109
        }
      },
      "source": [
        "# we can expand dimension of the array\n",
        "a = np.array([1,2,3,4])\n",
        "print(a[np.newaxis,:])\n",
        "print(a[:,np.newaxis])"
      ],
      "execution_count": null,
      "outputs": [
        {
          "output_type": "stream",
          "text": [
            "[[1 2 3 4]]\n",
            "[[1]\n",
            " [2]\n",
            " [3]\n",
            " [4]]\n"
          ],
          "name": "stdout"
        }
      ]
    },
    {
      "cell_type": "code",
      "metadata": {
        "id": "eGdykCMveeVG",
        "outputId": "34587e73-c9ca-4e93-e8e5-d21420476313",
        "colab": {
          "base_uri": "https://localhost:8080/",
          "height": 513
        }
      },
      "source": [
        "b = np.array([[[1,2,3,4],[5,6,7,8],[9,10,11,12]],\n",
        "              [[1,2,3,4],[5,6,7,8],[9,10,11,12]],\n",
        "              [[1,2,3,4],[5,6,7,8],[9,10,11,12]]])\n",
        "print(b[np.newaxis,:])\n",
        "print('\\n\\n')\n",
        "print(b[:,np.newaxis])"
      ],
      "execution_count": null,
      "outputs": [
        {
          "output_type": "stream",
          "text": [
            "[[[[ 1  2  3  4]\n",
            "   [ 5  6  7  8]\n",
            "   [ 9 10 11 12]]\n",
            "\n",
            "  [[ 1  2  3  4]\n",
            "   [ 5  6  7  8]\n",
            "   [ 9 10 11 12]]\n",
            "\n",
            "  [[ 1  2  3  4]\n",
            "   [ 5  6  7  8]\n",
            "   [ 9 10 11 12]]]]\n",
            "\n",
            "\n",
            "\n",
            "[[[[ 1  2  3  4]\n",
            "   [ 5  6  7  8]\n",
            "   [ 9 10 11 12]]]\n",
            "\n",
            "\n",
            " [[[ 1  2  3  4]\n",
            "   [ 5  6  7  8]\n",
            "   [ 9 10 11 12]]]\n",
            "\n",
            "\n",
            " [[[ 1  2  3  4]\n",
            "   [ 5  6  7  8]\n",
            "   [ 9 10 11 12]]]]\n"
          ],
          "name": "stdout"
        }
      ]
    },
    {
      "cell_type": "code",
      "metadata": {
        "id": "sOI_UiPHdc52",
        "outputId": "2c95a8e7-fa78-48f0-cd02-7d377a9deac9",
        "colab": {
          "base_uri": "https://localhost:8080/",
          "height": 164
        }
      },
      "source": [
        "# we can create an array of zeros or ones\n",
        "a = np.zeros((2,3))\n",
        "print(a)\n",
        "a = np.ones((2,3))\n",
        "print(a)\n",
        "b = np.zeros_like(a)\n",
        "print(b)\n",
        "b = np.ones_like(a)\n",
        "print(b)"
      ],
      "execution_count": null,
      "outputs": [
        {
          "output_type": "stream",
          "text": [
            "[[0. 0. 0.]\n",
            " [0. 0. 0.]]\n",
            "[[1. 1. 1.]\n",
            " [1. 1. 1.]]\n",
            "[[0. 0. 0.]\n",
            " [0. 0. 0.]]\n",
            "[[1. 1. 1.]\n",
            " [1. 1. 1.]]\n"
          ],
          "name": "stdout"
        }
      ]
    },
    {
      "cell_type": "code",
      "metadata": {
        "id": "pGrBia_cd4-V",
        "outputId": "dc523ae4-b769-4a5e-82d0-2b8385eb3a92",
        "colab": {
          "base_uri": "https://localhost:8080/",
          "height": 109
        }
      },
      "source": [
        "# for finding a transpose of a matrix\n",
        "a = np.array([[1,2,3,4]])\n",
        "print(a)\n",
        "print(a.transpose())"
      ],
      "execution_count": null,
      "outputs": [
        {
          "output_type": "stream",
          "text": [
            "[[1 2 3 4]]\n",
            "[[1]\n",
            " [2]\n",
            " [3]\n",
            " [4]]\n"
          ],
          "name": "stdout"
        }
      ]
    },
    {
      "cell_type": "code",
      "metadata": {
        "id": "h0xXwHkCfIwd",
        "outputId": "b9dd14ba-90d0-4fa5-cc49-97b0c05324dd",
        "colab": {
          "base_uri": "https://localhost:8080/",
          "height": 274
        }
      },
      "source": [
        "# for creating identity matirces\n",
        "a = np.identity(4,float)\n",
        "print(a)\n",
        "print()\n",
        "# for creating a matrix with ones along the kth diagonal\n",
        "a = np.eye(4, k=1,dtype=float)\n",
        "print(a)\n",
        "print()\n",
        "a = np.eye(4,M=8, k=1,dtype=float)\n",
        "print(a)"
      ],
      "execution_count": null,
      "outputs": [
        {
          "output_type": "stream",
          "text": [
            "[[1. 0. 0. 0.]\n",
            " [0. 1. 0. 0.]\n",
            " [0. 0. 1. 0.]\n",
            " [0. 0. 0. 1.]]\n",
            "\n",
            "[[0. 1. 0. 0.]\n",
            " [0. 0. 1. 0.]\n",
            " [0. 0. 0. 1.]\n",
            " [0. 0. 0. 0.]]\n",
            "\n",
            "[[0. 1. 0. 0. 0. 0. 0. 0.]\n",
            " [0. 0. 1. 0. 0. 0. 0. 0.]\n",
            " [0. 0. 0. 1. 0. 0. 0. 0.]\n",
            " [0. 0. 0. 0. 1. 0. 0. 0.]]\n"
          ],
          "name": "stdout"
        }
      ]
    },
    {
      "cell_type": "code",
      "metadata": {
        "id": "WdzACliDgw6R",
        "outputId": "99f0d9e0-f1b9-4ecd-b0d7-5c5247362ec4",
        "colab": {
          "base_uri": "https://localhost:8080/",
          "height": 127
        }
      },
      "source": [
        "# general mathematical calculations on numpy arrays\n",
        "a = np.array([1,2,3], dtype=float)\n",
        "b = np.array([4,5,6], dtype=float)\n",
        "print(a+b)\n",
        "print(a-b)\n",
        "print(a*b)\n",
        "print(a**b)\n",
        "print(a/b)\n",
        "print(a%b)"
      ],
      "execution_count": null,
      "outputs": [
        {
          "output_type": "stream",
          "text": [
            "[5. 7. 9.]\n",
            "[-3. -3. -3.]\n",
            "[ 4. 10. 18.]\n",
            "[  1.  32. 729.]\n",
            "[0.25 0.4  0.5 ]\n",
            "[1. 2. 3.]\n"
          ],
          "name": "stdout"
        }
      ]
    },
    {
      "cell_type": "code",
      "metadata": {
        "id": "u2HQjFU0iJpv",
        "outputId": "b0d3c4f1-b6d7-4e5b-9dd7-e21d32bc05f8",
        "colab": {
          "base_uri": "https://localhost:8080/",
          "height": 90
        }
      },
      "source": [
        "# some math function and constants\n",
        "b = np.array([4.56,5.32,6.62], dtype=float)\n",
        "print(np.sqrt(b))\n",
        "print(np.ceil(b))\n",
        "print(np.floor(b))\n",
        "\n",
        "# rounding for nearest integer\n",
        "print(np.rint(b))"
      ],
      "execution_count": null,
      "outputs": [
        {
          "output_type": "stream",
          "text": [
            "[2.13541565 2.30651252 2.57293607]\n",
            "[5. 6. 7.]\n",
            "[4. 5. 6.]\n",
            "[5. 5. 7.]\n"
          ],
          "name": "stdout"
        }
      ]
    },
    {
      "cell_type": "code",
      "metadata": {
        "id": "beQnqWk1jJVl",
        "outputId": "262de6cc-b3d2-4faa-cc66-2e60f0be41e6",
        "colab": {
          "base_uri": "https://localhost:8080/",
          "height": 127
        }
      },
      "source": [
        "print(np.pi)\n",
        "print(np.e)\n",
        "print(np.NaN)\n",
        "print(np.NAN)\n",
        "print(np.Inf)\n",
        "print(np.Infinity)"
      ],
      "execution_count": null,
      "outputs": [
        {
          "output_type": "stream",
          "text": [
            "3.141592653589793\n",
            "2.718281828459045\n",
            "nan\n",
            "nan\n",
            "inf\n",
            "inf\n"
          ],
          "name": "stdout"
        }
      ]
    },
    {
      "cell_type": "code",
      "metadata": {
        "id": "lJLjcG8ujWMu",
        "outputId": "ef5f2472-d5a9-4a49-ac37-8b2d51cf19f1",
        "colab": {
          "base_uri": "https://localhost:8080/",
          "height": 54
        }
      },
      "source": [
        "# basic matrix operations\n",
        "a = np.array([1,2,3,4])\n",
        "print(a.sum())\n",
        "# we can also use np.sum(a)\n",
        "print(a.prod())\n",
        "# we can also use np.prod(a)"
      ],
      "execution_count": null,
      "outputs": [
        {
          "output_type": "stream",
          "text": [
            "10\n",
            "24\n"
          ],
          "name": "stdout"
        }
      ]
    },
    {
      "cell_type": "code",
      "metadata": {
        "id": "vTHQtVsMj92T",
        "outputId": "e7f3e838-9dcc-4bb0-dde0-03fd008d8dbb",
        "colab": {
          "base_uri": "https://localhost:8080/",
          "height": 72
        }
      },
      "source": [
        "# we can find avg, varience, standard deviation\n",
        "a = np.array([2,1,9],float)\n",
        "print(a.mean())\n",
        "# we can also use np.mean(a)\n",
        "print(a.var())\n",
        "# we can also use np.var(a)\n",
        "print(a.std())\n",
        "# we can also use np.std(a)"
      ],
      "execution_count": null,
      "outputs": [
        {
          "output_type": "stream",
          "text": [
            "4.0\n",
            "12.666666666666666\n",
            "3.559026084010437\n"
          ],
          "name": "stdout"
        }
      ]
    },
    {
      "cell_type": "code",
      "metadata": {
        "id": "ouAyOeuMlDKk",
        "outputId": "52963274-2c9c-4890-edcf-2108d4e87fca",
        "colab": {
          "base_uri": "https://localhost:8080/",
          "height": 90
        }
      },
      "source": [
        "a = np.array([2,1,9],float)\n",
        "\n",
        "# we can find min and max of an array and their index values\n",
        "print(a.min())\n",
        "# we can also use np.min(a)\n",
        "print(a.max())\n",
        "# we can also use np.max(a)\n",
        "print(a.argmin())\n",
        "# we can also use np.argmin(a)\n",
        "print(a.argmax())\n",
        "# we can also use np.argmax(a)"
      ],
      "execution_count": null,
      "outputs": [
        {
          "output_type": "stream",
          "text": [
            "1.0\n",
            "9.0\n",
            "1\n",
            "2\n"
          ],
          "name": "stdout"
        }
      ]
    },
    {
      "cell_type": "code",
      "metadata": {
        "id": "yATJ-A-SlyMv",
        "outputId": "9b19b821-9584-43ef-d696-cac175fe573e",
        "colab": {
          "base_uri": "https://localhost:8080/",
          "height": 90
        }
      },
      "source": [
        "# we can also find mean based on axis\n",
        "a = np.array([[1,2],[3,4],[5,6]], dtype=float)\n",
        "print(a.mean())\n",
        "print(a.mean(axis=0))\n",
        "print(a.mean(axis=1))\n",
        "print(a.shape)"
      ],
      "execution_count": null,
      "outputs": [
        {
          "output_type": "stream",
          "text": [
            "3.5\n",
            "[3. 4.]\n",
            "[1.5 3.5 5.5]\n",
            "(3, 2)\n"
          ],
          "name": "stdout"
        }
      ]
    },
    {
      "cell_type": "code",
      "metadata": {
        "id": "uR29RL6ym65G",
        "outputId": "c195e764-bef9-45a0-c0df-0632a5f87e7c",
        "colab": {
          "base_uri": "https://localhost:8080/",
          "height": 35
        }
      },
      "source": [
        "# we can also sort the elements\n",
        "a = np.array([2,1,9],float)\n",
        "\n",
        "a.sort()\n",
        "print(a)\n",
        "# we can also use np.sort(a)"
      ],
      "execution_count": null,
      "outputs": [
        {
          "output_type": "stream",
          "text": [
            "[1. 2. 9.]\n"
          ],
          "name": "stdout"
        }
      ]
    },
    {
      "cell_type": "code",
      "metadata": {
        "id": "3QLgq2DmomF9",
        "outputId": "b1db1028-1975-45c8-a2d3-f60c781cf0a3",
        "colab": {
          "base_uri": "https://localhost:8080/",
          "height": 54
        }
      },
      "source": [
        "# we can limit the max and min values in an array\n",
        "a = np.array([2,1,9,-5,10],float)\n",
        "print(a.clip(0,10))\n",
        "\n",
        "# we can delete duplicate elements \n",
        "a = np.array([2,1,9,9,1,-5,10],float)\n",
        "print(np.unique(a))"
      ],
      "execution_count": null,
      "outputs": [
        {
          "output_type": "stream",
          "text": [
            "[ 2.  1.  9.  0. 10.]\n",
            "[-5.  1.  2.  9. 10.]\n"
          ],
          "name": "stdout"
        }
      ]
    },
    {
      "cell_type": "code",
      "metadata": {
        "id": "zTRv8D3PpUHM",
        "outputId": "47a31fa3-c5b0-4d11-be5f-6e8652b4e68f",
        "colab": {
          "base_uri": "https://localhost:8080/",
          "height": 35
        }
      },
      "source": [
        "# we can find the diagonal elements of a square matrtix\n",
        "a = np.array([[1,2],[3,4]])\n",
        "print(np.diagonal(a))"
      ],
      "execution_count": null,
      "outputs": [
        {
          "output_type": "stream",
          "text": [
            "[1 4]\n"
          ],
          "name": "stdout"
        }
      ]
    },
    {
      "cell_type": "code",
      "metadata": {
        "id": "vFP75aodqGdw",
        "outputId": "e4b41275-6807-49c8-b177-0bfeeb36333f",
        "colab": {
          "base_uri": "https://localhost:8080/",
          "height": 219
        }
      },
      "source": [
        "# we can also perform element wise comparision and logical operators on numpy arrays\n",
        "a = np.array([1,2,5], dtype=float)\n",
        "b = np.array([4,1,5], dtype=float)\n",
        "\n",
        "print(a > b)\n",
        "print(a == b)\n",
        "print(a > 2)\n",
        "print()\n",
        "# we can find whether any or all the values present in a numpy array are true or not\n",
        "c = a > 2\n",
        "print(any(c))\n",
        "c = a > 2\n",
        "print(all(c))\n",
        "print()\n",
        "# logical operators\n",
        "print(np.logical_and(a>1,a<10))\n",
        "print(np.logical_or(a>1,a<5))\n",
        "print(np.logical_not(a>2))\n",
        "print(np.logical_xor(a>2,b<5))"
      ],
      "execution_count": null,
      "outputs": [
        {
          "output_type": "stream",
          "text": [
            "[False  True False]\n",
            "[False False  True]\n",
            "[False False  True]\n",
            "\n",
            "True\n",
            "False\n",
            "\n",
            "[False  True  True]\n",
            "[ True  True  True]\n",
            "[ True  True False]\n",
            "[ True  True  True]\n"
          ],
          "name": "stdout"
        }
      ]
    },
    {
      "cell_type": "code",
      "metadata": {
        "id": "tCfYFJ_asdgt",
        "outputId": "5ee64b3d-b667-4ca3-a9b5-091c867ddadc",
        "colab": {
          "base_uri": "https://localhost:8080/",
          "height": 35
        }
      },
      "source": [
        "# we can generate a numpy array based on condition\n",
        "a = np.array([1,0,5], dtype=float)\n",
        "c = np.where(a!=0,a**a,a)\n",
        "print(c)"
      ],
      "execution_count": null,
      "outputs": [
        {
          "output_type": "stream",
          "text": [
            "[1.000e+00 0.000e+00 3.125e+03]\n"
          ],
          "name": "stdout"
        }
      ]
    },
    {
      "cell_type": "code",
      "metadata": {
        "id": "L_8yfmAywrnF",
        "outputId": "2a6ca84b-2f0e-47cf-a179-e0d34c9f9e57",
        "colab": {
          "base_uri": "https://localhost:8080/",
          "height": 35
        }
      },
      "source": [
        "# we can select the values of an array based on a condition\n",
        "a = np.array([1,0,5], dtype=float)\n",
        "\n",
        "print(a[a>=1])"
      ],
      "execution_count": null,
      "outputs": [
        {
          "output_type": "stream",
          "text": [
            "[1. 5.]\n"
          ],
          "name": "stdout"
        }
      ]
    },
    {
      "cell_type": "code",
      "metadata": {
        "id": "mU5XIIxbxpEo",
        "outputId": "6c8e3071-7711-4b5c-9371-455923188864",
        "colab": {
          "base_uri": "https://localhost:8080/",
          "height": 237
        }
      },
      "source": [
        "# values of array can be selected based on other array\n",
        "a = np.array([1,0,5], dtype=float)\n",
        "b = np.array([0,0,1,1,0,1],dtype=int)\n",
        "print(a[b])\n",
        "# for multi dimensional arrays we have to specify multiple arrays\n",
        "a = np.array([[1,2],[3,4]],dtype=float)\n",
        "print(a[b,b])\n",
        "\n",
        "print()\n",
        "\n",
        "# similar to above \n",
        "a = np.array([1,0,5], dtype=float)\n",
        "print(a.take(b,axis=0))\n",
        "a = np.array([[1,2],[3,4]],dtype=float)\n",
        "print(a.take(b,axis=0))\n",
        "print(a.take(b, axis=1))"
      ],
      "execution_count": null,
      "outputs": [
        {
          "output_type": "stream",
          "text": [
            "[1. 1. 0. 0. 1. 0.]\n",
            "[1. 1. 4. 4. 1. 4.]\n",
            "\n",
            "[1. 1. 0. 0. 1. 0.]\n",
            "[[1. 2.]\n",
            " [1. 2.]\n",
            " [3. 4.]\n",
            " [3. 4.]\n",
            " [1. 2.]\n",
            " [3. 4.]]\n",
            "[[1. 1. 2. 2. 1. 2.]\n",
            " [3. 3. 4. 4. 3. 4.]]\n"
          ],
          "name": "stdout"
        }
      ]
    },
    {
      "cell_type": "code",
      "metadata": {
        "id": "mM-a5bwky6xa"
      },
      "source": [
        "# we can replace values based on other index array\n",
        "a = np.array([1,0,5], dtype=float)\n",
        "a.put([0,2],[5,6])\n",
        "print(a)"
      ],
      "execution_count": null,
      "outputs": []
    },
    {
      "cell_type": "code",
      "metadata": {
        "id": "x9pA0zmd1tin",
        "outputId": "7db13f3c-0653-4b11-ab8b-45272f76b282",
        "colab": {
          "base_uri": "https://localhost:8080/",
          "height": 72
        }
      },
      "source": [
        "###### Vector and Matrix Mathematics ######\n",
        "a = np.array([1,2], dtype=int)\n",
        "b = np.array([[1,2,3],[4,5,6]], dtype=int)\n",
        "c = np.reshape(a,(2,1))\n",
        "\n",
        "print(np.dot(a,b))\n",
        "print(c*b) # here the matrix c will be broadcated to (2,3) and element wise product is computed\n",
        "'''\n",
        "c is broadcated as below\n",
        "[[1,1,1],\n",
        " [2,2,2]]\n",
        "'''"
      ],
      "execution_count": null,
      "outputs": [
        {
          "output_type": "stream",
          "text": [
            "[ 9 12 15]\n",
            "[[ 1  2  3]\n",
            " [ 8 10 12]]\n"
          ],
          "name": "stdout"
        }
      ]
    },
    {
      "cell_type": "code",
      "metadata": {
        "id": "AnrrLG8NP2QT",
        "outputId": "54bde7f5-379f-4390-b113-37703bf1612b",
        "colab": {
          "base_uri": "https://localhost:8080/",
          "height": 182
        }
      },
      "source": [
        "a = np.array([1,2,3])\n",
        "b = np.array([4,5,6])\n",
        "\n",
        "print(np.inner(a,b))\n",
        "print(np.dot(a,b))\n",
        "\n",
        "print('\\n\\n')\n",
        "\n",
        "# for vectors inner and dot product both are same..\n",
        "a = np.array([[1,2,3],[4,5,6]])\n",
        "b = np.array([7,8,9])\n",
        "c = np.array([[10,11,12],[13,14,15]])\n",
        "\n",
        "print(np.dot(a,b))\n",
        "print(np.inner(a,b))\n",
        "print(np.inner(a,c))"
      ],
      "execution_count": null,
      "outputs": [
        {
          "output_type": "stream",
          "text": [
            "32\n",
            "32\n",
            "\n",
            "\n",
            "\n",
            "[ 50 122]\n",
            "[ 50 122]\n",
            "[[ 68  86]\n",
            " [167 212]]\n"
          ],
          "name": "stdout"
        }
      ]
    },
    {
      "cell_type": "code",
      "metadata": {
        "id": "JvLTzmYdTuRq",
        "outputId": "46d1005c-b3f4-434f-b650-3c6460d380d0",
        "colab": {
          "base_uri": "https://localhost:8080/",
          "height": 90
        }
      },
      "source": [
        "a = np.array([1,2,3])\n",
        "b = np.array([4,5,6])\n",
        "\n",
        "print(np.outer(a,b))\n",
        "print(np.cross(a,b))"
      ],
      "execution_count": null,
      "outputs": [
        {
          "output_type": "stream",
          "text": [
            "[[ 4  5  6]\n",
            " [ 8 10 12]\n",
            " [12 15 18]]\n",
            "[-3  6 -3]\n"
          ],
          "name": "stdout"
        }
      ]
    },
    {
      "cell_type": "code",
      "metadata": {
        "id": "Qc3k4JnUVHtw",
        "outputId": "7efc6356-549c-4a9f-ba7a-06279362acc3",
        "colab": {
          "base_uri": "https://localhost:8080/",
          "height": 201
        }
      },
      "source": [
        "###### Linear Algebra ######\n",
        "\n",
        "a = np.array([[1,2,3],\n",
        "              [4,5,6],\n",
        "              [7,8,9]])\n",
        "\n",
        "print(np.linalg.det(a),end='\\n\\n')\n",
        "vals,vecs = np.linalg.eig(a)\n",
        "print(vals)\n",
        "print(vecs,end='\\n\\n')\n",
        "a = np.array([[7,2,8],\n",
        "              [1,5,9],\n",
        "              [7,2,10]])\n",
        "print(np.linalg.inv(a))"
      ],
      "execution_count": null,
      "outputs": [
        {
          "output_type": "stream",
          "text": [
            "0.0\n",
            "\n",
            "[ 1.61168440e+01 -1.11684397e+00 -1.30367773e-15]\n",
            "[[-0.23197069 -0.78583024  0.40824829]\n",
            " [-0.52532209 -0.08675134 -0.81649658]\n",
            " [-0.8186735   0.61232756  0.40824829]]\n",
            "\n",
            "[[ 0.48484848 -0.06060606 -0.33333333]\n",
            " [ 0.8030303   0.21212121 -0.83333333]\n",
            " [-0.5         0.          0.5       ]]\n"
          ],
          "name": "stdout"
        }
      ]
    },
    {
      "cell_type": "code",
      "metadata": {
        "id": "BO8u66DgcPrM",
        "outputId": "67ca7968-5dbc-47ca-fc3d-3b2cc91b0bed",
        "colab": {
          "base_uri": "https://localhost:8080/",
          "height": 109
        }
      },
      "source": [
        "# we can also load and save numpy arrays into txt files \n",
        "a = np.loadtxt('/content/data.txt', dtype=float, skiprows=1)\n",
        "print(a)\n",
        "\n",
        "np.savetxt('/content/data1.txt', a, header='value1 value2 value3')"
      ],
      "execution_count": null,
      "outputs": [
        {
          "output_type": "stream",
          "text": [
            "[[0.2536 0.1008 0.3857]\n",
            " [0.4839 0.4536 0.3561]\n",
            " [0.1292 0.6875 0.5929]\n",
            " [0.1781 0.3049 0.8928]\n",
            " [0.6253 0.3486 0.8791]]\n"
          ],
          "name": "stdout"
        }
      ]
    },
    {
      "cell_type": "code",
      "metadata": {
        "id": "PpbLhSd6oPvx",
        "outputId": "89127a25-589f-4925-b022-842a2b6ce678",
        "colab": {
          "base_uri": "https://localhost:8080/",
          "height": 35
        }
      },
      "source": [
        "##### Polynomial Mathematics #####\n",
        "import numpy as np\n",
        "# creates the polynomial with given roots\n",
        "np.poly([-1,1,1,10])"
      ],
      "execution_count": 1,
      "outputs": [
        {
          "output_type": "execute_result",
          "data": {
            "text/plain": [
              "array([  1., -11.,   9.,  11., -10.])"
            ]
          },
          "metadata": {
            "tags": []
          },
          "execution_count": 1
        }
      ]
    },
    {
      "cell_type": "code",
      "metadata": {
        "id": "7yTFO-I5XTqN",
        "outputId": "2cfe8e59-3318-42fe-9aba-0db1b9b30eb7",
        "colab": {
          "base_uri": "https://localhost:8080/",
          "height": 54
        }
      },
      "source": [
        "# evaluates the roots\n",
        "np.roots([1,4,-2,3])"
      ],
      "execution_count": 2,
      "outputs": [
        {
          "output_type": "execute_result",
          "data": {
            "text/plain": [
              "array([-4.5797401 +0.j        ,  0.28987005+0.75566815j,\n",
              "        0.28987005-0.75566815j])"
            ]
          },
          "metadata": {
            "tags": []
          },
          "execution_count": 2
        }
      ]
    },
    {
      "cell_type": "code",
      "metadata": {
        "id": "ztapO6CzXbbZ",
        "outputId": "8661a227-7083-4d30-a071-80443052ac4c",
        "colab": {
          "base_uri": "https://localhost:8080/",
          "height": 35
        }
      },
      "source": [
        "# evaluates the integration\n",
        "np.polyint([1,1,1,1])"
      ],
      "execution_count": 3,
      "outputs": [
        {
          "output_type": "execute_result",
          "data": {
            "text/plain": [
              "array([0.25      , 0.33333333, 0.5       , 1.        , 0.        ])"
            ]
          },
          "metadata": {
            "tags": []
          },
          "execution_count": 3
        }
      ]
    },
    {
      "cell_type": "code",
      "metadata": {
        "id": "Sjaj5D-LXiBb",
        "outputId": "0c9c564c-4a2e-46c2-c505-fd7592e408f4",
        "colab": {
          "base_uri": "https://localhost:8080/",
          "height": 35
        }
      },
      "source": [
        "# evaluates the derivative\n",
        "np.polyder([1/4,1/3,1/2,1,0])"
      ],
      "execution_count": 4,
      "outputs": [
        {
          "output_type": "execute_result",
          "data": {
            "text/plain": [
              "array([1., 1., 1., 1.])"
            ]
          },
          "metadata": {
            "tags": []
          },
          "execution_count": 4
        }
      ]
    },
    {
      "cell_type": "code",
      "metadata": {
        "id": "dDBWJrG0XzUL",
        "outputId": "58bc68f0-df38-41cd-ef2f-8336cfea619b",
        "colab": {
          "base_uri": "https://localhost:8080/",
          "height": 35
        }
      },
      "source": [
        "# evealuates a polynomial equation at a particular point of 'x'\n",
        "np.polyval([1,-2,0,2], 4)"
      ],
      "execution_count": 6,
      "outputs": [
        {
          "output_type": "execute_result",
          "data": {
            "text/plain": [
              "34"
            ]
          },
          "metadata": {
            "tags": []
          },
          "execution_count": 6
        }
      ]
    },
    {
      "cell_type": "code",
      "metadata": {
        "id": "luFQCdxnX_Z0",
        "outputId": "c97eb6fc-0a50-4a36-ade1-1d5b7eeb4ebf",
        "colab": {
          "base_uri": "https://localhost:8080/",
          "height": 72
        }
      },
      "source": [
        "# y, the polyfit function can be used to fit a polynomial of specified order to a set of data using a least-squares approach\n",
        "# return value is a set of polynomial coefficients\n",
        "x = [1,2,3,4,5,6,7,8]\n",
        "y = [0,2,1,3,7,10,11,19]\n",
        "print(np.polyfit(x,y,3))\n",
        "print(np.polyfit(x,y,2))\n",
        "print(np.polyfit(x,y,1))"
      ],
      "execution_count": 9,
      "outputs": [
        {
          "output_type": "stream",
          "text": [
            "[ 0.03282828 -0.06818182  0.8037518  -0.57142857]\n",
            "[ 0.375      -0.88690476  1.05357143]\n",
            "[ 2.48809524 -4.57142857]\n"
          ],
          "name": "stdout"
        }
      ]
    },
    {
      "cell_type": "code",
      "metadata": {
        "id": "P8bdRdr0ZTPO",
        "outputId": "cd5a98b3-ec30-46fb-e67a-afd658ecebea",
        "colab": {
          "base_uri": "https://localhost:8080/",
          "height": 127
        }
      },
      "source": [
        "##### Statistics #####\n",
        "a = np.array([1,2,3,4,5,6,7,8,9])\n",
        "print(a.mean())\n",
        "print(np.median(a))\n",
        "\n",
        "b = np.array([[1,2,3,4,5,6,7,8,9],\n",
        "             [9,8,7,6,5,4,3,2,1]])\n",
        "# The correlation coefficient for multiple variables observed at multiple instances can be found\n",
        "#for arrays of the form [[x1, x2, …], [y1, y2, …], [z1, z2, …], …] where x, y, z are different\n",
        "#observables and the numbers indicate the observation times\n",
        "print(np.corrcoef(b))\n",
        "\n",
        "# Here the return array c[i,j] gives the correlation coefficient for the ith and jth observables.\n",
        "# Similarly, the covariance for data can be found\n",
        "print(np.cov(b))"
      ],
      "execution_count": 15,
      "outputs": [
        {
          "output_type": "stream",
          "text": [
            "5.0\n",
            "5.0\n",
            "[[ 1. -1.]\n",
            " [-1.  1.]]\n",
            "[[ 7.5 -7.5]\n",
            " [-7.5  7.5]]\n"
          ],
          "name": "stdout"
        }
      ]
    },
    {
      "cell_type": "code",
      "metadata": {
        "id": "oboQkYMGa2oI",
        "outputId": "b4482aef-f7df-4392-aa77-efb0b5bbfb69",
        "colab": {
          "base_uri": "https://localhost:8080/",
          "height": 201
        }
      },
      "source": [
        "##### Random Nubers #####\n",
        "print(np.random.rand(5))\n",
        "print(np.random.rand(2,3))\n",
        "print(np.random.random())\n",
        "print(np.random.randint(5,10))\n",
        "\n",
        "#To draw from the discrete Poisson distribution with 𝜆 = 6.0\n",
        "print(np.random.poisson(6.0))\n",
        "\n",
        "#To draw from a continuous normal (Gaussian) distribution with mean 𝜇 = 1.5 and standard\n",
        "#deviation 𝜎 = 4.0:\n",
        "print(np.random.normal(1.5,4.0))\n",
        "\n",
        "#To draw from a standard normal distribution (𝜇 = 0, 𝜎 = 1), omit the arguments\n",
        "print(np.random.normal())\n",
        "\n",
        "#To draw multiple values, use the optional size argument:\n",
        "print(np.random.normal(size=5))\n",
        "\n",
        "# to shuffle a list\n",
        "a = [1,2,3,4,5,6,7,8,9]\n",
        "l = np.random.shuffle(a)\n",
        "print(l)\n",
        "\n",
        "#to set a random seed \n",
        "np.random.seed(21561)"
      ],
      "execution_count": 17,
      "outputs": [
        {
          "output_type": "stream",
          "text": [
            "[0.09354112 0.29704459 0.37396762 0.8908598  0.51799047]\n",
            "[[0.92866181 0.355485   0.75410704]\n",
            " [0.14772386 0.81436049 0.03959172]]\n",
            "0.9186127931511189\n",
            "9\n",
            "6\n",
            "-1.532819260897078\n",
            "-2.253651446079729\n",
            "[-0.29116154  0.83842574 -0.39517705 -0.96480859  1.39320845]\n",
            "None\n"
          ],
          "name": "stdout"
        }
      ]
    },
    {
      "cell_type": "code",
      "metadata": {
        "id": "ELVnTv0vc8R_"
      },
      "source": [
        ""
      ],
      "execution_count": null,
      "outputs": []
    }
  ]
}