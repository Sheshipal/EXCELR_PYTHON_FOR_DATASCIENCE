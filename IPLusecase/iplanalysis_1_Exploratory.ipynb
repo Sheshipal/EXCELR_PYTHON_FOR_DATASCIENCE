{
 "cells": [
  {
   "cell_type": "markdown",
   "metadata": {},
   "source": [
    "# 1. import Required Libaries"
   ]
  },
  {
   "cell_type": "code",
   "execution_count": 1,
   "metadata": {
    "collapsed": true
   },
   "outputs": [],
   "source": [
    "# For numerical computations\n",
    "import numpy as np\n",
    "\n",
    "# For Data Analysis and exploration\n",
    "import pandas as pd\n",
    "\n",
    "# For plotting and visualizations\n",
    "import matplotlib.pyplot as plt\n",
    "import seaborn as sn\n",
    "%matplotlib inline\n"
   ]
  },
  {
   "cell_type": "markdown",
   "metadata": {},
   "source": [
    "# 2. Read the dataset "
   ]
  },
  {
   "cell_type": "code",
   "execution_count": 2,
   "metadata": {},
   "outputs": [
    {
     "data": {
      "text/plain": [
       "pandas.core.frame.DataFrame"
      ]
     },
     "execution_count": 2,
     "metadata": {},
     "output_type": "execute_result"
    }
   ],
   "source": [
    "ipl_df = pd.read_csv(\"IPLData.csv\")\n",
    "type(ipl_df)"
   ]
  },
  {
   "cell_type": "markdown",
   "metadata": {},
   "source": [
    "# 3. Exploratory Data Analysis"
   ]
  },
  {
   "cell_type": "markdown",
   "metadata": {},
   "source": [
    "### a. Understand the DataFrame shape"
   ]
  },
  {
   "cell_type": "code",
   "execution_count": 3,
   "metadata": {},
   "outputs": [
    {
     "data": {
      "text/plain": [
       "(130, 26)"
      ]
     },
     "execution_count": 3,
     "metadata": {},
     "output_type": "execute_result"
    }
   ],
   "source": [
    "ipl_df.shape"
   ]
  },
  {
   "cell_type": "markdown",
   "metadata": {},
   "source": [
    "### b. Understand more detailed summary of the DataFrame like\n",
    "    * Number of columns, entries, data types of each column etc"
   ]
  },
  {
   "cell_type": "code",
   "execution_count": 4,
   "metadata": {},
   "outputs": [
    {
     "name": "stdout",
     "output_type": "stream",
     "text": [
      "<class 'pandas.core.frame.DataFrame'>\n",
      "RangeIndex: 130 entries, 0 to 129\n",
      "Data columns (total 26 columns):\n",
      " #   Column         Non-Null Count  Dtype  \n",
      "---  ------         --------------  -----  \n",
      " 0   Sl.NO.         130 non-null    int64  \n",
      " 1   PLAYER NAME    130 non-null    object \n",
      " 2   AGE            130 non-null    int64  \n",
      " 3   COUNTRY        130 non-null    object \n",
      " 4   TEAM           130 non-null    object \n",
      " 5   PLAYING ROLE   130 non-null    object \n",
      " 6   T-RUNS         130 non-null    int64  \n",
      " 7   T-WKTS         130 non-null    int64  \n",
      " 8   ODI-RUNS-S     130 non-null    int64  \n",
      " 9   ODI-SR-B       130 non-null    float64\n",
      " 10  ODI-WKTS       130 non-null    int64  \n",
      " 11  ODI-SR-BL      130 non-null    float64\n",
      " 12  CAPTAINCY EXP  130 non-null    int64  \n",
      " 13  RUNS-S         130 non-null    int64  \n",
      " 14  HS             130 non-null    int64  \n",
      " 15  AVE            130 non-null    float64\n",
      " 16  SR-B           130 non-null    float64\n",
      " 17  SIXERS         130 non-null    int64  \n",
      " 18  RUNS-C         130 non-null    int64  \n",
      " 19  WKTS           130 non-null    int64  \n",
      " 20  AVE-BL         130 non-null    float64\n",
      " 21  ECON           130 non-null    float64\n",
      " 22  SR-BL          130 non-null    float64\n",
      " 23  AUCTION YEAR   130 non-null    int64  \n",
      " 24  BASE PRICE     130 non-null    int64  \n",
      " 25  SOLD PRICE     130 non-null    int64  \n",
      "dtypes: float64(7), int64(15), object(4)\n",
      "memory usage: 26.5+ KB\n"
     ]
    }
   ],
   "source": [
    "ipl_df.info()"
   ]
  },
  {
   "cell_type": "markdown",
   "metadata": {},
   "source": [
    "### c. Display first 5 rows"
   ]
  },
  {
   "cell_type": "code",
   "execution_count": 5,
   "metadata": {},
   "outputs": [
    {
     "data": {
      "text/html": [
       "<div>\n",
       "<style scoped>\n",
       "    .dataframe tbody tr th:only-of-type {\n",
       "        vertical-align: middle;\n",
       "    }\n",
       "\n",
       "    .dataframe tbody tr th {\n",
       "        vertical-align: top;\n",
       "    }\n",
       "\n",
       "    .dataframe thead th {\n",
       "        text-align: right;\n",
       "    }\n",
       "</style>\n",
       "<table border=\"1\" class=\"dataframe\">\n",
       "  <thead>\n",
       "    <tr style=\"text-align: right;\">\n",
       "      <th></th>\n",
       "      <th>Sl.NO.</th>\n",
       "      <th>PLAYER NAME</th>\n",
       "      <th>AGE</th>\n",
       "      <th>COUNTRY</th>\n",
       "      <th>TEAM</th>\n",
       "      <th>PLAYING ROLE</th>\n",
       "      <th>T-RUNS</th>\n",
       "      <th>T-WKTS</th>\n",
       "      <th>ODI-RUNS-S</th>\n",
       "      <th>ODI-SR-B</th>\n",
       "      <th>...</th>\n",
       "      <th>SR-B</th>\n",
       "      <th>SIXERS</th>\n",
       "      <th>RUNS-C</th>\n",
       "      <th>WKTS</th>\n",
       "      <th>AVE-BL</th>\n",
       "      <th>ECON</th>\n",
       "      <th>SR-BL</th>\n",
       "      <th>AUCTION YEAR</th>\n",
       "      <th>BASE PRICE</th>\n",
       "      <th>SOLD PRICE</th>\n",
       "    </tr>\n",
       "  </thead>\n",
       "  <tbody>\n",
       "    <tr>\n",
       "      <th>0</th>\n",
       "      <td>1</td>\n",
       "      <td>Abdulla, YA</td>\n",
       "      <td>2</td>\n",
       "      <td>SA</td>\n",
       "      <td>KXIP</td>\n",
       "      <td>Allrounder</td>\n",
       "      <td>0</td>\n",
       "      <td>0</td>\n",
       "      <td>0</td>\n",
       "      <td>0.00</td>\n",
       "      <td>...</td>\n",
       "      <td>0.00</td>\n",
       "      <td>0</td>\n",
       "      <td>307</td>\n",
       "      <td>15</td>\n",
       "      <td>20.47</td>\n",
       "      <td>8.90</td>\n",
       "      <td>13.93</td>\n",
       "      <td>2009</td>\n",
       "      <td>50000</td>\n",
       "      <td>50000</td>\n",
       "    </tr>\n",
       "    <tr>\n",
       "      <th>1</th>\n",
       "      <td>2</td>\n",
       "      <td>Abdur Razzak</td>\n",
       "      <td>2</td>\n",
       "      <td>BAN</td>\n",
       "      <td>RCB</td>\n",
       "      <td>Bowler</td>\n",
       "      <td>214</td>\n",
       "      <td>18</td>\n",
       "      <td>657</td>\n",
       "      <td>71.41</td>\n",
       "      <td>...</td>\n",
       "      <td>0.00</td>\n",
       "      <td>0</td>\n",
       "      <td>29</td>\n",
       "      <td>0</td>\n",
       "      <td>0.00</td>\n",
       "      <td>14.50</td>\n",
       "      <td>0.00</td>\n",
       "      <td>2008</td>\n",
       "      <td>50000</td>\n",
       "      <td>50000</td>\n",
       "    </tr>\n",
       "    <tr>\n",
       "      <th>2</th>\n",
       "      <td>3</td>\n",
       "      <td>Agarkar, AB</td>\n",
       "      <td>2</td>\n",
       "      <td>IND</td>\n",
       "      <td>KKR</td>\n",
       "      <td>Bowler</td>\n",
       "      <td>571</td>\n",
       "      <td>58</td>\n",
       "      <td>1269</td>\n",
       "      <td>80.62</td>\n",
       "      <td>...</td>\n",
       "      <td>121.01</td>\n",
       "      <td>5</td>\n",
       "      <td>1059</td>\n",
       "      <td>29</td>\n",
       "      <td>36.52</td>\n",
       "      <td>8.81</td>\n",
       "      <td>24.90</td>\n",
       "      <td>2008</td>\n",
       "      <td>200000</td>\n",
       "      <td>350000</td>\n",
       "    </tr>\n",
       "    <tr>\n",
       "      <th>3</th>\n",
       "      <td>4</td>\n",
       "      <td>Ashwin, R</td>\n",
       "      <td>1</td>\n",
       "      <td>IND</td>\n",
       "      <td>CSK</td>\n",
       "      <td>Bowler</td>\n",
       "      <td>284</td>\n",
       "      <td>31</td>\n",
       "      <td>241</td>\n",
       "      <td>84.56</td>\n",
       "      <td>...</td>\n",
       "      <td>76.32</td>\n",
       "      <td>0</td>\n",
       "      <td>1125</td>\n",
       "      <td>49</td>\n",
       "      <td>22.96</td>\n",
       "      <td>6.23</td>\n",
       "      <td>22.14</td>\n",
       "      <td>2011</td>\n",
       "      <td>100000</td>\n",
       "      <td>850000</td>\n",
       "    </tr>\n",
       "    <tr>\n",
       "      <th>4</th>\n",
       "      <td>5</td>\n",
       "      <td>Badrinath, S</td>\n",
       "      <td>2</td>\n",
       "      <td>IND</td>\n",
       "      <td>CSK</td>\n",
       "      <td>Batsman</td>\n",
       "      <td>63</td>\n",
       "      <td>0</td>\n",
       "      <td>79</td>\n",
       "      <td>45.93</td>\n",
       "      <td>...</td>\n",
       "      <td>120.71</td>\n",
       "      <td>28</td>\n",
       "      <td>0</td>\n",
       "      <td>0</td>\n",
       "      <td>0.00</td>\n",
       "      <td>0.00</td>\n",
       "      <td>0.00</td>\n",
       "      <td>2011</td>\n",
       "      <td>100000</td>\n",
       "      <td>800000</td>\n",
       "    </tr>\n",
       "  </tbody>\n",
       "</table>\n",
       "<p>5 rows × 26 columns</p>\n",
       "</div>"
      ],
      "text/plain": [
       "   Sl.NO.   PLAYER NAME  AGE COUNTRY  TEAM PLAYING ROLE  T-RUNS  T-WKTS  \\\n",
       "0       1   Abdulla, YA    2      SA  KXIP   Allrounder       0       0   \n",
       "1       2  Abdur Razzak    2     BAN   RCB       Bowler     214      18   \n",
       "2       3   Agarkar, AB    2     IND   KKR       Bowler     571      58   \n",
       "3       4     Ashwin, R    1     IND   CSK       Bowler     284      31   \n",
       "4       5  Badrinath, S    2     IND   CSK      Batsman      63       0   \n",
       "\n",
       "   ODI-RUNS-S  ODI-SR-B  ...    SR-B  SIXERS  RUNS-C  WKTS  AVE-BL   ECON  \\\n",
       "0           0      0.00  ...    0.00       0     307    15   20.47   8.90   \n",
       "1         657     71.41  ...    0.00       0      29     0    0.00  14.50   \n",
       "2        1269     80.62  ...  121.01       5    1059    29   36.52   8.81   \n",
       "3         241     84.56  ...   76.32       0    1125    49   22.96   6.23   \n",
       "4          79     45.93  ...  120.71      28       0     0    0.00   0.00   \n",
       "\n",
       "   SR-BL  AUCTION YEAR  BASE PRICE  SOLD PRICE  \n",
       "0  13.93          2009       50000       50000  \n",
       "1   0.00          2008       50000       50000  \n",
       "2  24.90          2008      200000      350000  \n",
       "3  22.14          2011      100000      850000  \n",
       "4   0.00          2011      100000      800000  \n",
       "\n",
       "[5 rows x 26 columns]"
      ]
     },
     "execution_count": 5,
     "metadata": {},
     "output_type": "execute_result"
    }
   ],
   "source": [
    "ipl_df.head(5)"
   ]
  },
  {
   "cell_type": "markdown",
   "metadata": {},
   "source": [
    "### d. slicing and indexing of DataFrame"
   ]
  },
  {
   "cell_type": "code",
   "execution_count": 6,
   "metadata": {},
   "outputs": [
    {
     "data": {
      "text/html": [
       "<div>\n",
       "<style scoped>\n",
       "    .dataframe tbody tr th:only-of-type {\n",
       "        vertical-align: middle;\n",
       "    }\n",
       "\n",
       "    .dataframe tbody tr th {\n",
       "        vertical-align: top;\n",
       "    }\n",
       "\n",
       "    .dataframe thead th {\n",
       "        text-align: right;\n",
       "    }\n",
       "</style>\n",
       "<table border=\"1\" class=\"dataframe\">\n",
       "  <thead>\n",
       "    <tr style=\"text-align: right;\">\n",
       "      <th></th>\n",
       "      <th>Sl.NO.</th>\n",
       "      <th>PLAYER NAME</th>\n",
       "      <th>AGE</th>\n",
       "      <th>COUNTRY</th>\n",
       "      <th>TEAM</th>\n",
       "      <th>PLAYING ROLE</th>\n",
       "      <th>T-RUNS</th>\n",
       "      <th>T-WKTS</th>\n",
       "      <th>ODI-RUNS-S</th>\n",
       "      <th>ODI-SR-B</th>\n",
       "      <th>...</th>\n",
       "      <th>SR-B</th>\n",
       "      <th>SIXERS</th>\n",
       "      <th>RUNS-C</th>\n",
       "      <th>WKTS</th>\n",
       "      <th>AVE-BL</th>\n",
       "      <th>ECON</th>\n",
       "      <th>SR-BL</th>\n",
       "      <th>AUCTION YEAR</th>\n",
       "      <th>BASE PRICE</th>\n",
       "      <th>SOLD PRICE</th>\n",
       "    </tr>\n",
       "  </thead>\n",
       "  <tbody>\n",
       "    <tr>\n",
       "      <th>0</th>\n",
       "      <td>1</td>\n",
       "      <td>Abdulla, YA</td>\n",
       "      <td>2</td>\n",
       "      <td>SA</td>\n",
       "      <td>KXIP</td>\n",
       "      <td>Allrounder</td>\n",
       "      <td>0</td>\n",
       "      <td>0</td>\n",
       "      <td>0</td>\n",
       "      <td>0.00</td>\n",
       "      <td>...</td>\n",
       "      <td>0.00</td>\n",
       "      <td>0</td>\n",
       "      <td>307</td>\n",
       "      <td>15</td>\n",
       "      <td>20.47</td>\n",
       "      <td>8.90</td>\n",
       "      <td>13.93</td>\n",
       "      <td>2009</td>\n",
       "      <td>50000</td>\n",
       "      <td>50000</td>\n",
       "    </tr>\n",
       "    <tr>\n",
       "      <th>1</th>\n",
       "      <td>2</td>\n",
       "      <td>Abdur Razzak</td>\n",
       "      <td>2</td>\n",
       "      <td>BAN</td>\n",
       "      <td>RCB</td>\n",
       "      <td>Bowler</td>\n",
       "      <td>214</td>\n",
       "      <td>18</td>\n",
       "      <td>657</td>\n",
       "      <td>71.41</td>\n",
       "      <td>...</td>\n",
       "      <td>0.00</td>\n",
       "      <td>0</td>\n",
       "      <td>29</td>\n",
       "      <td>0</td>\n",
       "      <td>0.00</td>\n",
       "      <td>14.50</td>\n",
       "      <td>0.00</td>\n",
       "      <td>2008</td>\n",
       "      <td>50000</td>\n",
       "      <td>50000</td>\n",
       "    </tr>\n",
       "    <tr>\n",
       "      <th>2</th>\n",
       "      <td>3</td>\n",
       "      <td>Agarkar, AB</td>\n",
       "      <td>2</td>\n",
       "      <td>IND</td>\n",
       "      <td>KKR</td>\n",
       "      <td>Bowler</td>\n",
       "      <td>571</td>\n",
       "      <td>58</td>\n",
       "      <td>1269</td>\n",
       "      <td>80.62</td>\n",
       "      <td>...</td>\n",
       "      <td>121.01</td>\n",
       "      <td>5</td>\n",
       "      <td>1059</td>\n",
       "      <td>29</td>\n",
       "      <td>36.52</td>\n",
       "      <td>8.81</td>\n",
       "      <td>24.90</td>\n",
       "      <td>2008</td>\n",
       "      <td>200000</td>\n",
       "      <td>350000</td>\n",
       "    </tr>\n",
       "    <tr>\n",
       "      <th>3</th>\n",
       "      <td>4</td>\n",
       "      <td>Ashwin, R</td>\n",
       "      <td>1</td>\n",
       "      <td>IND</td>\n",
       "      <td>CSK</td>\n",
       "      <td>Bowler</td>\n",
       "      <td>284</td>\n",
       "      <td>31</td>\n",
       "      <td>241</td>\n",
       "      <td>84.56</td>\n",
       "      <td>...</td>\n",
       "      <td>76.32</td>\n",
       "      <td>0</td>\n",
       "      <td>1125</td>\n",
       "      <td>49</td>\n",
       "      <td>22.96</td>\n",
       "      <td>6.23</td>\n",
       "      <td>22.14</td>\n",
       "      <td>2011</td>\n",
       "      <td>100000</td>\n",
       "      <td>850000</td>\n",
       "    </tr>\n",
       "    <tr>\n",
       "      <th>4</th>\n",
       "      <td>5</td>\n",
       "      <td>Badrinath, S</td>\n",
       "      <td>2</td>\n",
       "      <td>IND</td>\n",
       "      <td>CSK</td>\n",
       "      <td>Batsman</td>\n",
       "      <td>63</td>\n",
       "      <td>0</td>\n",
       "      <td>79</td>\n",
       "      <td>45.93</td>\n",
       "      <td>...</td>\n",
       "      <td>120.71</td>\n",
       "      <td>28</td>\n",
       "      <td>0</td>\n",
       "      <td>0</td>\n",
       "      <td>0.00</td>\n",
       "      <td>0.00</td>\n",
       "      <td>0.00</td>\n",
       "      <td>2011</td>\n",
       "      <td>100000</td>\n",
       "      <td>800000</td>\n",
       "    </tr>\n",
       "  </tbody>\n",
       "</table>\n",
       "<p>5 rows × 26 columns</p>\n",
       "</div>"
      ],
      "text/plain": [
       "   Sl.NO.   PLAYER NAME  AGE COUNTRY  TEAM PLAYING ROLE  T-RUNS  T-WKTS  \\\n",
       "0       1   Abdulla, YA    2      SA  KXIP   Allrounder       0       0   \n",
       "1       2  Abdur Razzak    2     BAN   RCB       Bowler     214      18   \n",
       "2       3   Agarkar, AB    2     IND   KKR       Bowler     571      58   \n",
       "3       4     Ashwin, R    1     IND   CSK       Bowler     284      31   \n",
       "4       5  Badrinath, S    2     IND   CSK      Batsman      63       0   \n",
       "\n",
       "   ODI-RUNS-S  ODI-SR-B  ...    SR-B  SIXERS  RUNS-C  WKTS  AVE-BL   ECON  \\\n",
       "0           0      0.00  ...    0.00       0     307    15   20.47   8.90   \n",
       "1         657     71.41  ...    0.00       0      29     0    0.00  14.50   \n",
       "2        1269     80.62  ...  121.01       5    1059    29   36.52   8.81   \n",
       "3         241     84.56  ...   76.32       0    1125    49   22.96   6.23   \n",
       "4          79     45.93  ...  120.71      28       0     0    0.00   0.00   \n",
       "\n",
       "   SR-BL  AUCTION YEAR  BASE PRICE  SOLD PRICE  \n",
       "0  13.93          2009       50000       50000  \n",
       "1   0.00          2008       50000       50000  \n",
       "2  24.90          2008      200000      350000  \n",
       "3  22.14          2011      100000      850000  \n",
       "4   0.00          2011      100000      800000  \n",
       "\n",
       "[5 rows x 26 columns]"
      ]
     },
     "execution_count": 6,
     "metadata": {},
     "output_type": "execute_result"
    }
   ],
   "source": [
    "#slice the DF for first 5 rows.\n",
    "ipl_df[0:5]"
   ]
  },
  {
   "cell_type": "markdown",
   "metadata": {},
   "source": [
    "### e. Select only first 5 records to display only Player name"
   ]
  },
  {
   "cell_type": "code",
   "execution_count": 7,
   "metadata": {},
   "outputs": [
    {
     "data": {
      "text/plain": [
       "0     Abdulla, YA\n",
       "1    Abdur Razzak\n",
       "2     Agarkar, AB\n",
       "3       Ashwin, R\n",
       "4    Badrinath, S\n",
       "Name: PLAYER NAME, dtype: object"
      ]
     },
     "execution_count": 7,
     "metadata": {},
     "output_type": "execute_result"
    }
   ],
   "source": [
    "ipl_df['PLAYER NAME'][0:5]"
   ]
  },
  {
   "cell_type": "markdown",
   "metadata": {},
   "source": [
    "### f. Display Player_name, country, sold price from first 5 records\n"
   ]
  },
  {
   "cell_type": "code",
   "execution_count": 8,
   "metadata": {},
   "outputs": [
    {
     "data": {
      "text/html": [
       "<div>\n",
       "<style scoped>\n",
       "    .dataframe tbody tr th:only-of-type {\n",
       "        vertical-align: middle;\n",
       "    }\n",
       "\n",
       "    .dataframe tbody tr th {\n",
       "        vertical-align: top;\n",
       "    }\n",
       "\n",
       "    .dataframe thead th {\n",
       "        text-align: right;\n",
       "    }\n",
       "</style>\n",
       "<table border=\"1\" class=\"dataframe\">\n",
       "  <thead>\n",
       "    <tr style=\"text-align: right;\">\n",
       "      <th></th>\n",
       "      <th>PLAYER NAME</th>\n",
       "      <th>COUNTRY</th>\n",
       "      <th>SOLD PRICE</th>\n",
       "    </tr>\n",
       "  </thead>\n",
       "  <tbody>\n",
       "    <tr>\n",
       "      <th>0</th>\n",
       "      <td>Abdulla, YA</td>\n",
       "      <td>SA</td>\n",
       "      <td>50000</td>\n",
       "    </tr>\n",
       "    <tr>\n",
       "      <th>1</th>\n",
       "      <td>Abdur Razzak</td>\n",
       "      <td>BAN</td>\n",
       "      <td>50000</td>\n",
       "    </tr>\n",
       "    <tr>\n",
       "      <th>2</th>\n",
       "      <td>Agarkar, AB</td>\n",
       "      <td>IND</td>\n",
       "      <td>350000</td>\n",
       "    </tr>\n",
       "    <tr>\n",
       "      <th>3</th>\n",
       "      <td>Ashwin, R</td>\n",
       "      <td>IND</td>\n",
       "      <td>850000</td>\n",
       "    </tr>\n",
       "    <tr>\n",
       "      <th>4</th>\n",
       "      <td>Badrinath, S</td>\n",
       "      <td>IND</td>\n",
       "      <td>800000</td>\n",
       "    </tr>\n",
       "  </tbody>\n",
       "</table>\n",
       "</div>"
      ],
      "text/plain": [
       "    PLAYER NAME COUNTRY  SOLD PRICE\n",
       "0   Abdulla, YA      SA       50000\n",
       "1  Abdur Razzak     BAN       50000\n",
       "2   Agarkar, AB     IND      350000\n",
       "3     Ashwin, R     IND      850000\n",
       "4  Badrinath, S     IND      800000"
      ]
     },
     "execution_count": 8,
     "metadata": {},
     "output_type": "execute_result"
    }
   ],
   "source": [
    "ipl_df[['PLAYER NAME','COUNTRY', 'SOLD PRICE']][:5]"
   ]
  },
  {
   "cell_type": "markdown",
   "metadata": {},
   "source": [
    "### h. Find the number of player's from different countries that have played in IPL."
   ]
  },
  {
   "cell_type": "code",
   "execution_count": 9,
   "metadata": {},
   "outputs": [
    {
     "data": {
      "text/plain": [
       "IND    53\n",
       "AUS    22\n",
       "SA     16\n",
       "SL     12\n",
       "PAK     9\n",
       "NZ      7\n",
       "WI      6\n",
       "ENG     3\n",
       "BAN     1\n",
       "ZIM     1\n",
       "Name: COUNTRY, dtype: int64"
      ]
     },
     "execution_count": 9,
     "metadata": {},
     "output_type": "execute_result"
    }
   ],
   "source": [
    "ipl_df['COUNTRY'].value_counts()"
   ]
  },
  {
   "cell_type": "markdown",
   "metadata": {},
   "source": [
    "### i. Find the number of players in each age category for each playing role and notedown your observations.\n",
    "* cross tabulation feature will help to find the occurances for the combination of values for 2 columns.\n",
    "* For example, cross tabulation between PLAYING ROLE and AGE will give number of players in each playing Role in each age category.\n",
    "* Hence, to find occurances across the combination of 2 categories, we use crosstab() method of DataFrame"
   ]
  },
  {
   "cell_type": "code",
   "execution_count": null,
   "metadata": {
    "collapsed": true
   },
   "outputs": [],
   "source": [
    "pd.crosstab(ipl_df['AGE'],ipl_df['PLAYING ROLE'])"
   ]
  },
  {
   "cell_type": "markdown",
   "metadata": {},
   "source": [
    "### j. Find the top 5 high auctioned Players (name, sold price)"
   ]
  },
  {
   "cell_type": "code",
   "execution_count": null,
   "metadata": {
    "collapsed": true
   },
   "outputs": [],
   "source": [
    "ipl_df[['PLAYER NAME','SOLD PRICE']].sort_values('SOLD PRICE',ascending = False)[:5]"
   ]
  },
  {
   "cell_type": "markdown",
   "metadata": {},
   "source": [
    "## Analyse using grouping and aggregation "
   ]
  },
  {
   "cell_type": "markdown",
   "metadata": {},
   "source": [
    "### a. Find the average SOLD PRICE for each age category and convert the result into a DataFrame"
   ]
  },
  {
   "cell_type": "code",
   "execution_count": 5,
   "metadata": {},
   "outputs": [
    {
     "data": {
      "text/plain": [
       "AGE\n",
       "1    720250.000000\n",
       "2    484534.883721\n",
       "3    520178.571429\n",
       "Name: SOLD PRICE, dtype: float64"
      ]
     },
     "execution_count": 5,
     "metadata": {},
     "output_type": "execute_result"
    }
   ],
   "source": [
    "ipl_df.groupby('AGE')['SOLD PRICE'].mean()"
   ]
  },
  {
   "cell_type": "code",
   "execution_count": 7,
   "metadata": {},
   "outputs": [
    {
     "name": "stdout",
     "output_type": "stream",
     "text": [
      "   AGE     SOLD PRICE\n",
      "0    1  720250.000000\n",
      "1    2  484534.883721\n",
      "2    3  520178.571429\n"
     ]
    }
   ],
   "source": [
    "soldprice_by_age = ipl_df.groupby('AGE')['SOLD PRICE'].mean().reset_index()\n",
    "print(soldprice_by_age)"
   ]
  },
  {
   "cell_type": "markdown",
   "metadata": {},
   "source": [
    "### Visualize the same SOLD PRICE for each age category in a Bar chart\n",
    "* What are your observations?"
   ]
  },
  {
   "cell_type": "code",
   "execution_count": 8,
   "metadata": {},
   "outputs": [
    {
     "data": {
      "text/plain": [
       "<matplotlib.axes._subplots.AxesSubplot at 0x1d32e1cdb38>"
      ]
     },
     "execution_count": 8,
     "metadata": {},
     "output_type": "execute_result"
    },
    {
     "data": {
      "image/png": "[encoded data removed]",
      "text/plain": [
       "<matplotlib.figure.Figure at 0x1d32e1cd160>"
      ]
     },
     "metadata": {},
     "output_type": "display_data"
    }
   ],
   "source": [
    "sn.barplot(x='AGE',y='SOLD PRICE',data=soldprice_by_age)"
   ]
  },
  {
   "cell_type": "markdown",
   "metadata": {},
   "source": [
    "### b. Find the average SOLD PRICE for each age group and playing role category and results in a DataFrame \n",
    "* Observations?"
   ]
  },
  {
   "cell_type": "code",
   "execution_count": null,
   "metadata": {
    "collapsed": true
   },
   "outputs": [],
   "source": [
    "sold_price_age_role = ipl_df.groupby(['AGE','PLAYING ROLE'])['SOLD PRICE'].mean().reset_index()\n",
    "print(sold_price_age_role)\n"
   ]
  },
  {
   "cell_type": "markdown",
   "metadata": {},
   "source": [
    "## Merge sold_price_by_age and sold_price_by_age_role DFs to visually compare"
   ]
  },
  {
   "cell_type": "code",
   "execution_count": null,
   "metadata": {
    "collapsed": true
   },
   "outputs": [],
   "source": [
    "soldprice_comparision = sold_price_age_role.merge(soldprice_by_age, on = 'AGE', how = 'outer')\n",
    "print(soldprice_comparision)"
   ]
  },
  {
   "cell_type": "code",
   "execution_count": null,
   "metadata": {
    "collapsed": true
   },
   "outputs": [],
   "source": [
    "soldprice_comparision.rename(columns = {'SOLD PRICE_x' : 'SOLD_PRICE_AGE_ROLE', 'SOLD PRICE_y': 'SOLD_PRICE_AGE'},inplace = True)\n",
    "soldprice_comparision.describe()"
   ]
  },
  {
   "cell_type": "markdown",
   "metadata": {},
   "source": [
    "### Visualize the above result in a bar graph"
   ]
  },
  {
   "cell_type": "code",
   "execution_count": null,
   "metadata": {
    "collapsed": true
   },
   "outputs": [],
   "source": [
    "sn.barplot(x='AGE',y='SOLD_PRICE_AGE_ROLE', hue= 'PLAYING ROLE', data = soldprice_comparision)"
   ]
  },
  {
   "cell_type": "markdown",
   "metadata": {},
   "source": [
    "## Get the list of players who hit more than 80 sizers in IPL"
   ]
  },
  {
   "cell_type": "code",
   "execution_count": null,
   "metadata": {
    "collapsed": true
   },
   "outputs": [],
   "source": [
    "ipl_df[ipl_df['SIXERS'] > 80 ][['PLAYER NAME','SIXERS']]"
   ]
  },
  {
   "cell_type": "markdown",
   "metadata": {},
   "source": [
    "## Understand target variable distribution (histograms, distplots)"
   ]
  },
  {
   "cell_type": "code",
   "execution_count": null,
   "metadata": {
    "collapsed": true
   },
   "outputs": [],
   "source": [
    "plt.hist(ipl_df['SOLD PRICE'])"
   ]
  },
  {
   "cell_type": "code",
   "execution_count": null,
   "metadata": {
    "collapsed": true
   },
   "outputs": [],
   "source": [
    "sn.distplot(ipl_df['SOLD PRICE'])"
   ]
  },
  {
   "cell_type": "markdown",
   "metadata": {},
   "source": [
    "### Find out if there are any outliers using box plot."
   ]
  },
  {
   "cell_type": "code",
   "execution_count": null,
   "metadata": {
    "collapsed": true
   },
   "outputs": [],
   "source": [
    "box = sn.boxplot(ipl_df['SOLD PRICE'])"
   ]
  },
  {
   "cell_type": "markdown",
   "metadata": {},
   "source": [
    "## If you draw box plot with matplot lib. It gives us the values for 25th, 75th percentiles values"
   ]
  },
  {
   "cell_type": "code",
   "execution_count": null,
   "metadata": {
    "collapsed": true
   },
   "outputs": [],
   "source": [
    "box = plt.boxplot(ipl_df['SOLD PRICE'])"
   ]
  },
  {
   "cell_type": "markdown",
   "metadata": {},
   "source": [
    "## Things you get from the box variable of boxplot above\n",
    "1. outliers = [flier.get_ydata() for flier in box[\"fliers\"]]\n",
    "2. boxes = [boxes.get_ydata() for boxes in box['boxes']]\n",
    "3. medians = [medians.get_ydata() for medians in box[\"medians\"]]\n",
    "4. whiskers = [whiskers.get_ydata() for whiskers in box[\"whiskers\"]]\n",
    "5. caps = [caps.get_ydata() for caps in box[\"caps\"]]"
   ]
  },
  {
   "cell_type": "code",
   "execution_count": null,
   "metadata": {
    "collapsed": true
   },
   "outputs": [],
   "source": [
    "# let's print min, max values by using caps in box variable.\n",
    "[i.get_ydata() for i in box['caps']]"
   ]
  },
  {
   "cell_type": "code",
   "execution_count": null,
   "metadata": {
    "collapsed": true
   },
   "outputs": [],
   "source": [
    "# let's print outliers\n",
    "[outliers.get_ydata() for outliers in box['fliers']]"
   ]
  },
  {
   "cell_type": "markdown",
   "metadata": {},
   "source": [
    "## Let us find the names of the players who are auctioned at a sold price that is an outlier."
   ]
  },
  {
   "cell_type": "code",
   "execution_count": null,
   "metadata": {
    "collapsed": true
   },
   "outputs": [],
   "source": [
    "ipl_df[ipl_df['SOLD PRICE'] > 1350000.0][['PLAYER NAME','PLAYING ROLE','SOLD PRICE']]"
   ]
  },
  {
   "cell_type": "markdown",
   "metadata": {},
   "source": [
    "### plot the distributions of SOLD PRICE with and without captaincy experience and and compare.\n",
    "* Observations?"
   ]
  },
  {
   "cell_type": "code",
   "execution_count": null,
   "metadata": {
    "collapsed": true
   },
   "outputs": [],
   "source": [
    "sn.distplot(ipl_df[ipl_df['CAPTAINCY EXP'] == 1]['SOLD PRICE'],color = 'y',label='CAPTAINCY EXPERIENCE')\n",
    "sn.distplot(ipl_df[ipl_df['CAPTAINCY EXP'] == 0 ]['SOLD PRICE'],color ='r',label = 'NO CAPTAINCY EXP')\n",
    "plt.legend()"
   ]
  },
  {
   "cell_type": "markdown",
   "metadata": {},
   "source": [
    "### Compare the distribution of target variable with different PLAYING ROLES"
   ]
  },
  {
   "cell_type": "code",
   "execution_count": null,
   "metadata": {
    "collapsed": true
   },
   "outputs": [],
   "source": [
    "sn.boxplot(x='PLAYING ROLE',y='SOLD PRICE',data=ipl_df)"
   ]
  },
  {
   "cell_type": "markdown",
   "metadata": {},
   "source": [
    "## Observations??"
   ]
  },
  {
   "cell_type": "markdown",
   "metadata": {},
   "source": [
    "## We can also use Scatter plots before performing Regression to understand the correlation between variables.\n",
    "* Understand the correlation between SIXERS and SOLD PRICE"
   ]
  },
  {
   "cell_type": "code",
   "execution_count": null,
   "metadata": {
    "collapsed": true
   },
   "outputs": [],
   "source": [
    "batsman = ipl_df[ipl_df['PLAYING ROLE'] == 'Batsman']\n",
    "plt.scatter(x=batsman['SIXERS'], y = batsman['SOLD PRICE'])"
   ]
  },
  {
   "cell_type": "markdown",
   "metadata": {},
   "source": [
    "## As there are many variables, we can take the help of a HeatMap to understand the correlation between multiple features.\n"
   ]
  },
  {
   "cell_type": "code",
   "execution_count": null,
   "metadata": {
    "collapsed": true
   },
   "outputs": [],
   "source": [
    "influential_features = ['SR-B','AVE','SIXERS','SOLD PRICE']\n",
    "sn.heatmap(ipl_df[influential_features].corr(), annot=True)"
   ]
  },
  {
   "cell_type": "code",
   "execution_count": null,
   "metadata": {
    "collapsed": true
   },
   "outputs": [],
   "source": []
  }
 ],
 "metadata": {
  "kernelspec": {
   "display_name": "Python 3",
   "language": "python",
   "name": "python3"
  },
  "language_info": {
   "codemirror_mode": {
    "name": "ipython",
    "version": 3
   },
   "file_extension": ".py",
   "mimetype": "text/x-python",
   "name": "python",
   "nbconvert_exporter": "python",
   "pygments_lexer": "ipython3",
   "version": "3.6.3"
  }
 },
 "nbformat": 4,
 "nbformat_minor": 2
}
